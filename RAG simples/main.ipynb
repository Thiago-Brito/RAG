{
 "cells": [
  {
   "cell_type": "code",
   "execution_count": 3,
   "metadata": {},
   "outputs": [],
   "source": [
    "from langchain_text_splitters import RecursiveCharacterTextSplitter\n",
    "from langchain_openai import OpenAIEmbeddings\n",
    "from langchain_openai import ChatOpenAI\n",
    "from langchain_community.vectorstores import Chroma\n",
    "from langchain_community.document_loaders import PyPDFLoader\n",
    "from langchain.chains.question_answering import load_qa_chain"
   ]
  },
  {
   "cell_type": "code",
   "execution_count": null,
   "metadata": {},
   "outputs": [],
   "source": [
    "import os\n",
    "from dotenv import load_dotenv\n",
    "\n",
    "load_dotenv()\n",
    "\n",
    "openai_api_key = os.getenv(\"OPENAI_API_KEY\")"
   ]
  },
  {
   "cell_type": "code",
   "execution_count": 5,
   "metadata": {},
   "outputs": [],
   "source": [
    "embeddings_model = OpenAIEmbeddings()\n",
    "llm = ChatOpenAI(\n",
    "    model_name=\"gpt-4o-mini\",\n",
    "    max_tokens=200,\n",
    "    \n",
    ")"
   ]
  },
  {
   "cell_type": "code",
   "execution_count": 7,
   "metadata": {},
   "outputs": [],
   "source": [
    "pdf_link = \"ProjetoLei.pdf\"\n",
    "loader = PyPDFLoader(pdf_link, extract_images=False)\n",
    "pages = loader.load_and_split()"
   ]
  },
  {
   "cell_type": "code",
   "execution_count": 8,
   "metadata": {},
   "outputs": [],
   "source": [
    "text_spliter = RecursiveCharacterTextSplitter(\n",
    "    chunk_size=4000,\n",
    "    chunk_overlap=20,\n",
    "    length_function=len,\n",
    "    add_start_index=True,\n",
    ")\n",
    "\n",
    "chunks = text_spliter.split_documents(pages)"
   ]
  },
  {
   "cell_type": "code",
   "execution_count": null,
   "metadata": {},
   "outputs": [],
   "source": [
    "db = Chroma.from_documents(chunks, embedding=embeddings_model, persist_directory=\"text_index\")"
   ]
  },
  {
   "cell_type": "code",
   "execution_count": null,
   "metadata": {},
   "outputs": [],
   "source": [
    "\n",
    "vectordb = Chroma(persist_directory=\"text_index\", embedding_function=embeddings_model)\n",
    "\n",
    "# Load Retriever\n",
    "retriever = vectordb.as_retriever(search_kwargs={\"k\": 3})\n",
    "\n",
    "# Chain - Contrução da cadeira de prompt para chamada do LLM\n",
    "chain = load_qa_chain(llm, chain_type=\"stuff\")"
   ]
  },
  {
   "cell_type": "code",
   "execution_count": 16,
   "metadata": {},
   "outputs": [],
   "source": [
    "def ask(question):\n",
    "    context = retriever.invoke(question)  \n",
    "    answer = chain.invoke({               \n",
    "        \"input_documents\": context,\n",
    "        \"question\": question\n",
    "    })[\"output_text\"]\n",
    "    return answer, context"
   ]
  },
  {
   "cell_type": "code",
   "execution_count": 17,
   "metadata": {},
   "outputs": [
    {
     "name": "stdout",
     "output_type": "stream",
     "text": [
      "Answer:  Os principais pontos da Lei de Inteligência Artificial mencionada incluem:\n",
      "\n",
      "1. Estabelecimento de direitos para a proteção das pessoas naturais afetadas por sistemas de inteligência artificial, incluindo acesso à informação e compreensão das decisões tomadas por esses sistemas.\n",
      "\n",
      "2. Garantia do direito de contestar decisões automatizadas e solicitar intervenção humana.\n",
      "\n",
      "3. Proteção contra discriminação e correção de vieses discriminatórios em sistemas de inteligência artificial.\n",
      "\n",
      "4. Criação de uma regulação baseada em riscos, com uma modelagem regulatória fundada em direitos.\n",
      "\n",
      "5. Estabelecimento de instrumentos de governança para garantir a transparência e prestação de contas dos agentes que desenvolvem e utilizam inteligência artificial.\n",
      "\n",
      "6. Exigência de que os sistemas de IA destinados a grupos vulneráveis sejam desenvolvidos de forma que esses indivíduos consigam entender seu funcionamento e seus direitos.\n",
      "\n",
      "7. Direito da pessoa afetada de solicitar explicações sobre decisões, previsões ou recomendações geradas por sistemas de inteligência artificial.\n",
      "\n",
      "Esses\n"
     ]
    }
   ],
   "source": [
    "user_question = input(\"User: \")\n",
    "answer, context = ask(user_question)\n",
    "print(\"Answer: \", answer)"
   ]
  },
  {
   "cell_type": "code",
   "execution_count": 18,
   "metadata": {},
   "outputs": [
    {
     "name": "stdout",
     "output_type": "stream",
     "text": [
      "page_content='liberdades fundamentais, a valorização do trabalho e da dignidade da pessoa \n",
      "humana e a inovação tecnológica representada pela inteligência artificial. \n",
      "O projeto tem um duplo objetivo. De um lado, estabelece direitos \n",
      "para proteção do elo mais vulnerável em questão, a pessoa natural que já é \n",
      "diariamente impactada por sistemas de inteligência artificial, desde a \n",
      "recomendação de conteúdo e direcionamento de publicidade na Internet até a \n",
      "sua análise de elegibilidade para tomada de crédito e para determinadas \n",
      "políticas públicas. De outro lado, ao dispor de ferramentas de governança e de \n",
      "um arranjo institucional de fiscalização e supervisão, cria condições de \n",
      "previsibilidade acerca da sua interpretação e, em última análise, segurança \n",
      "jurídica para inovação e o desenvolvimento tecnológico. \n",
      "A proposição parte da premissa, portanto, de que não há um trade-\n",
      "off entre a proteção de direitos e liberdades fundamentais, da valorização do \n",
      "trabalho e da dignidade da pessoa humana face à ordem econômica e à criação \n",
      "de novas cadeias de valor. Pelo contrário, seus fundamentos e a sua base \n",
      "principiológica buscam tal harmonização, nos termos da Constituição Federal. \n",
      "Estruturalmente, a proposição estabelece uma regulação baseada \n",
      "em riscos e uma modelagem regulatória fundada em direitos. Apresenta ainda \n",
      "instrumentos de governança para uma adequada prestação de contas dos \n",
      "agentes econômicos desenvolvedores e utilizadores da inteligência artificial, \n",
      "incentivando uma atuação de boa-fé e um eficaz gerenciamento de riscos. \n",
      "O texto proposto, inicialmente, define fundamentos e princípios \n",
      "gerais para o desenvolvimento e utilização dos sistemas de inteligência \n",
      "artificial, que balizam todas as demais disposições específicas. \n",
      "Dedica capítulo específico à proteção dos direitos das pessoas \n",
      "afetadas por sistemas de inteligência artificial, no qual: garante acesso \n",
      "apropriado à informação e adequada compreensão das decisões tomadas por \n",
      "esses sistemas; estabelece e regula o direito de contestar decisões \n",
      "automatizadas e de solicitar intervenção humana; e disciplina o direito à não-\n",
      "discriminação e à correção de vieses discriminatórios. \n",
      "Além de fixar direitos básicos e transversais para todo e qualquer \n",
      "contexto em que há interação entre máquina e ser humano, como informação e \n",
      "transparência, intensifica-se tal obrigação quando o sistema de IA produz \n",
      "efeitos jurídicos relevantes ou impactem os sujeitos de maneira significativa \n",
      "(ex: direito de contestação e intervenção humana). Assim, o peso da regulação \n",
      "é calibrado de acordo com os potenciais riscos do contexto de aplicação da \n",
      "tecnologia. Foram estabelecidas, de forma simétrica aos direitos, determinadas \n",
      "SF/23833.90768-16' metadata={'moddate': '2023-05-03T19:15:38-03:00', 'creator': 'Microsoft Office Word', 'creationdate': '2023-05-03T18:22:00+00:00', 'source': 'ProjetoLei.pdf', 'producer': 'Aspose.Words for Java 23.3.0; modified using iText® 5.5.11 ©2000-2017 iText Group NV (AGPL-version)', 'total_pages': 31, 'page_label': '29', 'page': 28, 'author': 'fredfqd', 'start_index': 0}\n",
      "page_content='VI – um sistema de inteligência artificial similar ter causado \n",
      "anteriormente danos materiais ou morais; \n",
      "VII – baixo grau de transparência, explicabilidade e auditabilidade \n",
      "do sistema de inteligência artificial, que dificulte o seu controle ou supervisão; \n",
      "VIII – alto nível de identificabilidade dos titulares dos dados, \n",
      "incluindo o tratamento de dados genéticos e biométricos para efeitos de \n",
      "identificação única de uma pessoa singular, especialmente quando o tratamento \n",
      "inclui combinação, correspondência ou comparação de dados de várias fontes; \n",
      "IX – quando existirem expectativas razoáveis do afetado quanto \n",
      "ao uso de seus dados pessoais no sistema de inteligência artificial, em especial \n",
      "a expectativa de confidencialidade, como no tratamento de dados sigilosos ou \n",
      "sensíveis. \n",
      "Parágrafo único. A atualização da lista mencionada no caput pela \n",
      "autoridade competente será precedida de consulta ao órgão regulador setorial \n",
      "competente, se houver, assim como de consulta e de audiência públicas e de \n",
      "análise de impacto regulatório. \n",
      "CAPÍTULO IV \n",
      "DA GOVERNANÇA DOS SISTEMAS DE INTELIGÊNCIA ARTIFICIAL \n",
      "Seção I \n",
      "Disposições Gerais \n",
      "Art. 19. Os agentes de inteligência artificial estabelecerão \n",
      "estruturas de governança e processos internos aptos a garantir a segurança dos \n",
      "sistemas e o atendimento dos direitos de pessoas afetadas, nos termos previstos \n",
      "no Capítulo II desta Lei e da legislação pertinente, que incluirão, pelo menos: \n",
      "I – medidas de transparência quanto ao emprego de sistemas de \n",
      "inteligência artificial na interação com pessoas naturais, o que inclui o uso de \n",
      "interfaces ser humano-máquina adequadas e suficientemente claras e \n",
      "informativas; \n",
      "II – transparência quanto às medidas de governança adotadas no \n",
      "desenvolvimento e emprego do sistema de inteligência artificial pela \n",
      "organização; \n",
      "III – medidas de gestão de dados adequadas para a mitigação e \n",
      "prevenção de potenciais vieses discriminatórios; \n",
      "SF/23833.90768-16' metadata={'source': 'ProjetoLei.pdf', 'moddate': '2023-05-03T19:15:38-03:00', 'total_pages': 31, 'page': 11, 'creationdate': '2023-05-03T18:22:00+00:00', 'start_index': 0, 'author': 'fredfqd', 'page_label': '12', 'creator': 'Microsoft Office Word', 'producer': 'Aspose.Words for Java 23.3.0; modified using iText® 5.5.11 ©2000-2017 iText Group NV (AGPL-version)'}\n",
      "page_content='§ 3º Os sistemas de inteligência artificial que se destinem a grupos \n",
      "vulneráveis, tais como crianças, adolescentes, idosos e pessoas com \n",
      "deficiência, serão desenvolvidos de tal modo que essas pessoas consigam \n",
      "entender seu funcionamento e seus direitos em face dos agentes de inteligência \n",
      "artificial. \n",
      "Art. 8º A pessoa afetada por sistema de inteligência artificial \n",
      "poderá solicitar explicação sobre a decisão, previsão ou recomendação, com \n",
      "informações a respeito dos critérios e dos procedimentos utilizados, assim \n",
      "como sobre os principais fatores que afetam tal previsão ou decisão específica, \n",
      "incluindo informações sobre: \n",
      "I – a racionalidade e a lógica do sistema, o significado e as \n",
      "consequências previstas de tal decisão para a pessoa afetada; \n",
      "II – o grau e o nível de contribuição do sistema de inteligência \n",
      "artificial para a tomada de decisões; \n",
      "III – os dados processados e a sua fonte, os critérios para a tomada \n",
      "de decisão e, quando apropriado, a sua ponderação, aplicados à situação da \n",
      "pessoa afetada; \n",
      "IV – os mecanismos por meio dos quais a pessoa pode contestar a \n",
      "decisão; e \n",
      "V – a possibilidade de solicitar intervenção humana, nos termos \n",
      "desta Lei. \n",
      "Parágrafo único. As informações mencionadas no caput serão \n",
      "fornecidas por procedimento gratuito e facilitado, em linguagem que permita \n",
      "que a pessoa compreenda o resultado da decisão ou previsão em questão, no \n",
      "prazo de até quinze dias a contar da solicitação, permitida a prorrogação, uma \n",
      "vez, por igual período, a depender da complexidade do caso. \n",
      "Seção III \n",
      "Do direito de contestar decisões e de solicitar intervenção humana \n",
      "Art. 9º A pessoa afetada por sistema de inteligência artificial terá \n",
      "o direito de contestar e de solicitar a revisão de decisões, recomendações ou \n",
      "previsões geradas por tal sistema que produzam efeitos jurídicos relevantes ou \n",
      "que impactem de maneira significativa seus interesses. \n",
      "§ 1º Fica assegurado o direito de correção de dados incompletos, \n",
      "inexatos ou desatualizados utilizados por sistemas de inteligência artificial, \n",
      "SF/23833.90768-16' metadata={'moddate': '2023-05-03T19:15:38-03:00', 'total_pages': 31, 'creationdate': '2023-05-03T18:22:00+00:00', 'start_index': 0, 'page': 5, 'producer': 'Aspose.Words for Java 23.3.0; modified using iText® 5.5.11 ©2000-2017 iText Group NV (AGPL-version)', 'page_label': '6', 'creator': 'Microsoft Office Word', 'author': 'fredfqd', 'source': 'ProjetoLei.pdf'}\n"
     ]
    }
   ],
   "source": [
    "for c in context:\n",
    "    print(c)"
   ]
  }
 ],
 "metadata": {
  "kernelspec": {
   "display_name": "Python 3",
   "language": "python",
   "name": "python3"
  },
  "language_info": {
   "codemirror_mode": {
    "name": "ipython",
    "version": 3
   },
   "file_extension": ".py",
   "mimetype": "text/x-python",
   "name": "python",
   "nbconvert_exporter": "python",
   "pygments_lexer": "ipython3",
   "version": "3.13.2"
  }
 },
 "nbformat": 4,
 "nbformat_minor": 2
}
